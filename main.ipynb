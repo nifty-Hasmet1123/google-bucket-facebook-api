{
 "cells": [
  {
   "cell_type": "code",
   "execution_count": 2,
   "metadata": {},
   "outputs": [],
   "source": [
    "from components.fetch_data import FetchData\n",
    "from components.google_credentials import *\n",
    "from components.initialize_credentials import init_credentials\n",
    "import pandas as pd"
   ]
  },
  {
   "cell_type": "code",
   "execution_count": 3,
   "metadata": {},
   "outputs": [
    {
     "name": "stdout",
     "output_type": "stream",
     "text": [
      "File fbadsLatest3.json uploaded to Google Cloud Storage.\n",
      "Upload successfully on local drive: path is in json folder.\n"
     ]
    }
   ],
   "source": [
    "def main(sheet_name: str) -> None:\n",
    "    #GOOGLE BUCKET STORAGE CREDENTIALS +++++++\n",
    "    bucket_name = 'hkecommercedata'\n",
    "    folder_name = 'fb-ads'\n",
    "\n",
    "    # Create a Credentials object from the access token and refresh token\n",
    "    # and authorize the gspread client with the credential objects\n",
    "    client = init_credentials(ACCESS_TOKEN, REFRESH_TOKEN, CLIENT_ID, CLIENT_SECRET, TOKEN_URI)\n",
    "\n",
    "    # Open the Google Sheet by URL and get the data as a pandas DataFrame\n",
    "    sheet = client.open_by_url(SHEET_URL)\n",
    "    worksheet = sheet.worksheet(sheet_name)\n",
    "    data = worksheet.get_all_values()\n",
    "\n",
    "    # delete duplicates and drop \"Profile id\" with NaN values and retains the first value.\n",
    "    df = pd.DataFrame(data[1:], columns=data[0]).dropna(subset=[\"Profile ID\"]).drop_duplicates(subset=[\"Profile ID\"])\n",
    "    df[\"Added Date\"] = pd.to_datetime(df[\"Added Date\"])\n",
    "    df.sort_values(by = [\"Profile\"], inplace = True)\n",
    "\n",
    "    ## additional conditions that delete rows with empty string or with #N/A str values\n",
    "    df = df[~df[\"Profile ID\"].isin([\"\", \"#N/A\"])] \n",
    "\n",
    "    # call the class\n",
    "    # this will directly call upload the file to google storage\n",
    "    instance = FetchData(df)\n",
    "    instance.process_data_now()\n",
    "\n",
    "    instance.upload_to_google_storage(\n",
    "        bucket_name=bucket_name,\n",
    "        folder_name=folder_name,\n",
    "        filename=\"fbadsLatest3.json\"\n",
    "    )\n",
    "    \n",
    "    instance.upload_to_local(\"fbadslatest3.json\") \n",
    "\n",
    "main(\"Sheet1\")"
   ]
  },
  {
   "cell_type": "code",
   "execution_count": null,
   "metadata": {},
   "outputs": [],
   "source": [
    "def main(sheet_name: str) -> None:\n",
    "    bucket_name = 'hkecommercedata'\n",
    "    folder_name = 'fb-ads'\n",
    "\n",
    "    client = init_credentials(ACCESS_TOKEN, REFRESH_TOKEN, CLIENT_ID, CLIENT_SECRET, TOKEN_URI)\n",
    "\n",
    "    sheet = client.open_by_url(SHEET_URL)\n",
    "    worksheet = sheet.worksheet(sheet_name)\n",
    "    data = worksheet.get_all_values()\n",
    "\n",
    "    df = pd.DataFrame(data[1:], columns=data[0]).dropna(subset=[\"Profile ID\"]).drop_duplicates(subset=[\"Profile ID\"])\n",
    "    df[\"Added Date\"] = pd.to_datetime(df[\"Added Date\"])\n",
    "    df.sort_values(by = [\"Profile\"], inplace = True)\n",
    "\n",
    "    df = df[~df[\"Profile ID\"].isin([\"\", \"#N/A\"])] \n",
    "\n",
    "    instance = FetchData(df)\n",
    "    instance.process_data_now()\n",
    "\n",
    "    instance.upload_to_google_storage(\n",
    "        bucket_name=bucket_name,\n",
    "        folder_name=folder_name,\n",
    "        filename=\"fbadsLatest3.json\"\n",
    "    )\n",
    "    \n",
    "    instance.upload_to_local(\"fbadslatest3.json\") \n",
    "\n",
    "main(\"Sheet1\")"
   ]
  }
 ],
 "metadata": {
  "kernelspec": {
   "display_name": ".venv",
   "language": "python",
   "name": "python3"
  },
  "language_info": {
   "codemirror_mode": {
    "name": "ipython",
    "version": 3
   },
   "file_extension": ".py",
   "mimetype": "text/x-python",
   "name": "python",
   "nbconvert_exporter": "python",
   "pygments_lexer": "ipython3",
   "version": "3.10.6"
  },
  "orig_nbformat": 4
 },
 "nbformat": 4,
 "nbformat_minor": 2
}
